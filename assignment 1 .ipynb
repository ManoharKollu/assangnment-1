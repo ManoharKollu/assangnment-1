{
 "cells": [
  {
   "cell_type": "markdown",
   "id": "74cc3fa4",
   "metadata": {},
   "source": [
    "Python Program To Convert A String To Lower Case"
   ]
  },
  {
   "cell_type": "code",
   "execution_count": 5,
   "id": "deef9263",
   "metadata": {},
   "outputs": [
    {
     "name": "stdout",
     "output_type": "stream",
     "text": [
      "Enter String : MANO\n"
     ]
    },
    {
     "data": {
      "text/plain": [
       "'mano'"
      ]
     },
     "execution_count": 5,
     "metadata": {},
     "output_type": "execute_result"
    }
   ],
   "source": [
    "km=input(\"Enter String : \")\n",
    "km.lower()"
   ]
  },
  {
   "cell_type": "markdown",
   "id": "76c0a901",
   "metadata": {},
   "source": [
    "Python Program To Convert Only Odd Indexing Character to lower case"
   ]
  },
  {
   "cell_type": "code",
   "execution_count": 8,
   "id": "bbca04d7",
   "metadata": {},
   "outputs": [
    {
     "name": "stdout",
     "output_type": "stream",
     "text": [
      "Give Input : python\n",
      "PyThOn\n"
     ]
    }
   ],
   "source": [
    "km=input(\"Give Input : \")\n",
    "km1=\"\"\n",
    "for i in range(len(km)):\n",
    "    if i%2==0:\n",
    "        km1=km1+km[i].upper()\n",
    "    else:\n",
    "        km1=km1+km[i].lower()\n",
    "print(km1)"
   ]
  },
  {
   "cell_type": "markdown",
   "id": "ed6a74e8",
   "metadata": {},
   "source": [
    "Python Program To Convert Only Even Indexing Character to lower case"
   ]
  },
  {
   "cell_type": "code",
   "execution_count": 9,
   "id": "47b3a296",
   "metadata": {},
   "outputs": [
    {
     "name": "stdout",
     "output_type": "stream",
     "text": [
      "Give Input : python\n",
      "PyThOn\n"
     ]
    }
   ],
   "source": [
    "km=input(\"Give Input : \")\n",
    "km1=\"\"\n",
    "for i in range(len(km1)):\n",
    "    if i%2!=0:\n",
    "        km1=km1+km[i].upper()\n",
    "    else:\n",
    "        km1=km1+km[i].lower()\n",
    "print(str2)"
   ]
  },
  {
   "cell_type": "markdown",
   "id": "47b18f1a",
   "metadata": {},
   "source": [
    "Python Program To Convert Only Even Indexing Character to lower case"
   ]
  },
  {
   "cell_type": "code",
   "execution_count": 23,
   "id": "38bf5978",
   "metadata": {},
   "outputs": [
    {
     "name": "stdout",
     "output_type": "stream",
     "text": [
      "Give Input : manohar\n",
      "mAnOhAr\n"
     ]
    }
   ],
   "source": [
    "str1=input(\"Give Input : \")\n",
    "str2=\"\"\n",
    "for i in range(len(str1)):\n",
    "    if i%2!=0:\n",
    "        str2=str2+str1[i].upper()\n",
    "    else:\n",
    "        str2=str2+str1[i].lower()\n",
    "print(str2)"
   ]
  },
  {
   "cell_type": "markdown",
   "id": "68460a21",
   "metadata": {},
   "source": [
    "Python Program To Convert Only Odd Indexing Character to Upper case"
   ]
  },
  {
   "cell_type": "code",
   "execution_count": 11,
   "id": "1c6809f2",
   "metadata": {},
   "outputs": [
    {
     "name": "stdout",
     "output_type": "stream",
     "text": [
      "Give Input : python\n",
      "pYtHoN\n"
     ]
    }
   ],
   "source": [
    "\n",
    "str1=input(\"Give Input : \")\n",
    "str2=\"\"\n",
    "for i in range(len(str1)):\n",
    "    if i%2==0:\n",
    "        str2=str2+str1[i].lower()\n",
    "    else:\n",
    "        str2=str2+str1[i].upper()\n",
    "print(str2)"
   ]
  },
  {
   "cell_type": "markdown",
   "id": "a211c602",
   "metadata": {},
   "source": [
    "Python Program To Convert Only Even Indexing Character to Upper case"
   ]
  },
  {
   "cell_type": "code",
   "execution_count": 12,
   "id": "d14f1746",
   "metadata": {},
   "outputs": [
    {
     "name": "stdout",
     "output_type": "stream",
     "text": [
      "Give Input : manohar\n",
      "MaNoHaR\n"
     ]
    }
   ],
   "source": [
    "str1=input(\"Give Input : \")\n",
    "str2=\"\"\n",
    "for i in range(len(str1)):\n",
    "    if i%2==0:\n",
    "        str2=str2+str1[i].upper()\n",
    "    else:\n",
    "        str2=str2+str1[i].lower()\n",
    "print(str2)"
   ]
  },
  {
   "cell_type": "markdown",
   "id": "542d8ac0",
   "metadata": {},
   "source": [
    "BIO DATA Program"
   ]
  },
  {
   "cell_type": "code",
   "execution_count": 13,
   "id": "e03a8192",
   "metadata": {
    "scrolled": true
   },
   "outputs": [
    {
     "name": "stdout",
     "output_type": "stream",
     "text": [
      "Enter Your Name : km\n",
      "Enter Your Gender : m\n",
      "Enter Your Age : 22\n",
      "Enter Phone Number : 2222\n",
      "Enter Father Name : vm\n",
      "Enter Motherer Name : ur\n",
      "My Name is km,Gender m,My Age is 22,Phone Number is 2222,Father Name is vm,Mother Name is ur\n"
     ]
    }
   ],
   "source": [
    "name=input(\"Enter Your Name : \")\n",
    "gender=input(\"Enter Your Gender : \")\n",
    "age=int(input(\"Enter Your Age : \"))\n",
    "phone_no=int(input(\"Enter Phone Number : \"))\n",
    "father_name=input(\"Enter Father Name : \")\n",
    "mother_name=input(\"Enter Motherer Name : \")\n",
    "bio_data=\"My Name is {},Gender {},My Age is {},Phone Number is {},Father Name is {},Mother Name is {}\"\n",
    "BIO_DATA=bio_data.format(name,gender,age,phone_no,father_name,mother_name)\n",
    "print(BIO_DATA)"
   ]
  },
  {
   "cell_type": "markdown",
   "id": "2b1e3f55",
   "metadata": {},
   "source": [
    "Program To Count How many Times @ Occurred"
   ]
  },
  {
   "cell_type": "code",
   "execution_count": 14,
   "id": "0b096ba3",
   "metadata": {},
   "outputs": [
    {
     "name": "stdout",
     "output_type": "stream",
     "text": [
      "4\n"
     ]
    }
   ],
   "source": [
    "s=\"name1.@gmail.com,name2.@gmail.com,name3.@gmail.com,name4.@gmail.com\"\n",
    "t=s.count(\"@\")\n",
    "print(t)"
   ]
  },
  {
   "cell_type": "markdown",
   "id": "5cb4991f",
   "metadata": {},
   "source": [
    "python program to get only names from the string"
   ]
  },
  {
   "cell_type": "code",
   "execution_count": 15,
   "id": "9642b5f4",
   "metadata": {},
   "outputs": [
    {
     "name": "stdout",
     "output_type": "stream",
     "text": [
      "name1,name2,name3\n"
     ]
    }
   ],
   "source": [
    "x=\"name1.@gmail.com,name2.@gmail.com,name3.@gmail.com\" \n",
    "y=x.split(\".@gmail.com\")\n",
    "z=\"\".join(y)\n",
    "print(z)"
   ]
  },
  {
   "cell_type": "markdown",
   "id": "13881417",
   "metadata": {},
   "source": [
    "python program to insert a 2nd string in the middle of 1st\\string"
   ]
  },
  {
   "cell_type": "code",
   "execution_count": 1,
   "id": "89335775",
   "metadata": {},
   "outputs": [
    {
     "name": "stdout",
     "output_type": "stream",
     "text": [
      "moomm\n"
     ]
    }
   ],
   "source": [
    "str1=\"mmm\"\n",
    "str2=\"oo\"\n",
    "str3=str1[0]+str2[0:2]+str1[1:3]\n",
    "print(str3)"
   ]
  },
  {
   "cell_type": "markdown",
   "id": "15e6269b",
   "metadata": {},
   "source": [
    "program to remove vowels from the entire alphabets "
   ]
  },
  {
   "cell_type": "code",
   "execution_count": 21,
   "id": "5e25500c",
   "metadata": {},
   "outputs": [
    {
     "name": "stdout",
     "output_type": "stream",
     "text": [
      "bcdfghjklmnpqrstvwxyz\n"
     ]
    }
   ],
   "source": [
    "s1=\"abcdefghijklmnopqrstuvwxyz\"\n",
    "s2=[\"a\",\"e\",\"i\",\"o\",\"u\"]\n",
    "s3=[]\n",
    "for i in s1:\n",
    "    if i not in s2:\n",
    "        s3.append(i)\n",
    "s3=\"\".join(s3)\n",
    "print(s3)"
   ]
  }
 ],
 "metadata": {
  "kernelspec": {
   "display_name": "Python 3 (ipykernel)",
   "language": "python",
   "name": "python3"
  },
  "language_info": {
   "codemirror_mode": {
    "name": "ipython",
    "version": 3
   },
   "file_extension": ".py",
   "mimetype": "text/x-python",
   "name": "python",
   "nbconvert_exporter": "python",
   "pygments_lexer": "ipython3",
   "version": "3.9.12"
  }
 },
 "nbformat": 4,
 "nbformat_minor": 5
}
